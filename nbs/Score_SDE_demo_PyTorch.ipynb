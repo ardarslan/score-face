{
 "cells": [
  {
   "cell_type": "code",
   "execution_count": 1,
   "source": [
    "#@title Autoload all modules\n",
    "%load_ext autoreload\n",
    "%autoreload 2\n",
    "\n",
    "from dataclasses import dataclass, field\n",
    "import matplotlib.pyplot as plt\n",
    "import io\n",
    "import csv\n",
    "import numpy as np\n",
    "import pandas as pd\n",
    "import seaborn as sns\n",
    "import matplotlib\n",
    "import importlib\n",
    "import os\n",
    "import functools\n",
    "import itertools\n",
    "import torch\n",
    "\n",
    "import sys\n",
    "sys.path.insert(0, \"../\")\n",
    "from losses import get_optimizer\n",
    "from models.ema import ExponentialMovingAverage\n",
    "\n",
    "import torch.nn as nn\n",
    "import numpy as np\n",
    "import tensorflow as tf\n",
    "import tensorflow_datasets as tfds\n",
    "import tensorflow_gan as tfgan\n",
    "import tqdm\n",
    "import io\n",
    "import likelihood\n",
    "import controllable_generation\n",
    "from utils import restore_checkpoint\n",
    "sns.set(font_scale=2)\n",
    "sns.set(style=\"whitegrid\")\n",
    "\n",
    "import models\n",
    "from models import utils as mutils\n",
    "from models import ncsnv2\n",
    "from models import ncsnpp\n",
    "from models import ddpm as ddpm_model\n",
    "from models import layerspp\n",
    "from models import layers\n",
    "from models import normalization\n",
    "import sampling\n",
    "from likelihood import get_likelihood_fn\n",
    "from sde_lib import VESDE\n",
    "from sampling import (ReverseDiffusionPredictor, \n",
    "                      LangevinCorrector, \n",
    "                      EulerMaruyamaPredictor, \n",
    "                      AncestralSamplingPredictor, \n",
    "                      NoneCorrector, \n",
    "                      NonePredictor,\n",
    "                      AnnealedLangevinDynamics)\n",
    "import datasets"
   ],
   "outputs": [
    {
     "output_type": "stream",
     "name": "stderr",
     "text": [
      "/cluster/scratch/aarslan/miniconda3/envs/score_face/lib/python3.9/site-packages/tqdm/auto.py:22: TqdmWarning: IProgress not found. Please update jupyter and ipywidgets. See https://ipywidgets.readthedocs.io/en/stable/user_install.html\n",
      "  from .autonotebook import tqdm as notebook_tqdm\n",
      "2022-05-21 18:48:28.616634: I tensorflow/stream_executor/platform/default/dso_loader.cc:53] Successfully opened dynamic library libcudart.so.11.0\n"
     ]
    },
    {
     "output_type": "stream",
     "name": "stdout",
     "text": [
      "WARNING:tensorflow:From /cluster/scratch/aarslan/miniconda3/envs/score_face/lib/python3.9/site-packages/tensorflow_gan/python/estimator/tpu_gan_estimator.py:42: The name tf.estimator.tpu.TPUEstimator is deprecated. Please use tf.compat.v1.estimator.tpu.TPUEstimator instead.\n",
      "\n"
     ]
    }
   ],
   "metadata": {}
  },
  {
   "cell_type": "code",
   "execution_count": 2,
   "source": [
    "# @title Load the score-based model\n",
    "\n",
    "from configs.ve import ffhq_256_ncsnpp_continuous as configs\n",
    "ckpt_filename = \"../exp/ve/ffhq_256_ncsnpp_continuous/checkpoint_48.pth\"\n",
    "config = configs.get_config()\n",
    "sde = VESDE(sigma_min=config.model.sigma_min, sigma_max=config.model.sigma_max, N=config.model.num_scales)\n",
    "sampling_eps = 1e-5\n",
    "\n",
    "batch_size = 4 #@param {\"type\":\"integer\"}\n",
    "config.training.batch_size = batch_size\n",
    "config.eval.batch_size = batch_size\n",
    "\n",
    "random_seed = 0 #@param {\"type\": \"integer\"}\n",
    "\n",
    "sigmas = mutils.get_sigmas(config)\n",
    "scaler = datasets.get_data_scaler(config)\n",
    "inverse_scaler = datasets.get_data_inverse_scaler(config)\n",
    "score_model = mutils.create_model(config)\n",
    "\n",
    "optimizer = get_optimizer(config, score_model.parameters())\n",
    "ema = ExponentialMovingAverage(score_model.parameters(),\n",
    "                               decay=config.model.ema_rate)\n",
    "state = dict(step=0, optimizer=optimizer,\n",
    "             model=score_model, ema=ema)\n",
    "\n",
    "state = restore_checkpoint(ckpt_filename, state, config.device)\n",
    "ema.copy_to(score_model.parameters())\n"
   ],
   "outputs": [],
   "metadata": {
    "cellView": "form",
    "id": "-reedYgCU79v"
   }
  },
  {
   "cell_type": "code",
   "execution_count": 3,
   "source": [
    "#@title Visualization code\n",
    "\n",
    "def image_grid(x):\n",
    "    size = config.data.image_size\n",
    "    channels = config.data.num_channels\n",
    "    img = x.reshape(-1, size, size, channels)\n",
    "    w = int(np.sqrt(img.shape[0]))\n",
    "    img = img.reshape((w, w, size, size, channels)).transpose((0, 2, 1, 3, 4)).reshape((w * size, w * size, channels))\n",
    "    return img\n",
    "\n",
    "\n",
    "def show_samples(x):\n",
    "    x = x.permute(0, 2, 3, 1).detach().cpu().numpy()\n",
    "    img = image_grid(x)\n",
    "    plt.figure(figsize=(8,8))\n",
    "    plt.axis('off')\n",
    "    plt.imshow(img)\n",
    "    plt.show()\n"
   ],
   "outputs": [],
   "metadata": {
    "cellView": "form",
    "id": "G8ei2Xsfg6JQ"
   }
  },
  {
   "cell_type": "markdown",
   "source": [
    "# Predictor Corrector sampling\n",
    "\n",
    "\n",
    "Recommended settings:\n",
    "\n",
    " | dataset | SDE | predictor | corrector | snr | n_steps |\n",
    "|:----:|:----:|:----------:|:--------:|:---:|:----:|\n",
    "|CIFAR-10 | VE | ReverseDiffusionPredictor | LangevinCorrector | 0.16| 1|\n",
    "|CIFAR-10 | VP | EulerMaruyamaPredictor | None | - | - |\n",
    "|CIFAR-10 | subVP| EulerMaruyamaPredictor | None | - | - |\n",
    "| LSUN/CelebA-HQ/FFHQ 256px | VE | ReverseDiffusionPredictor | LangevinCorrector | 0.075 | 1 |\n",
    "| FFHQ 1024px | VE | ReverseDiffusionPredictor | LangevinCorrector | 0.15| 1 |\n",
    "\n",
    "Check `probability_flow` to run PC sampling based on discretizing the probability flow ODE."
   ],
   "metadata": {
    "id": "8hbBGjCMNUsp"
   }
  },
  {
   "cell_type": "code",
   "execution_count": null,
   "source": [
    "#@title PC sampling\n",
    "img_size = config.data.image_size\n",
    "channels = config.data.num_channels\n",
    "shape = (batch_size, channels, img_size, img_size)\n",
    "predictor = ReverseDiffusionPredictor #@param [\"EulerMaruyamaPredictor\", \"AncestralSamplingPredictor\", \"ReverseDiffusionPredictor\", \"None\"] {\"type\": \"raw\"}\n",
    "corrector = LangevinCorrector #@param [\"LangevinCorrector\", \"AnnealedLangevinDynamics\", \"None\"] {\"type\": \"raw\"}\n",
    "snr = 0.15 #@param {\"type\": \"number\"}\n",
    "n_steps = 1 #@param {\"type\": \"integer\"}\n",
    "probability_flow = False #@param {\"type\": \"boolean\"}\n",
    "sampling_fn = sampling.get_pc_sampler(sde, shape, predictor, corrector,\n",
    "                                      inverse_scaler, snr, n_steps=n_steps,\n",
    "                                      probability_flow=probability_flow,\n",
    "                                      continuous=config.training.continuous,\n",
    "                                      eps=sampling_eps, device=config.device)\n",
    "\n",
    "x, n = sampling_fn(score_model)\n",
    "show_samples(x)"
   ],
   "outputs": [],
   "metadata": {
    "cellView": "form",
    "colab": {
     "base_uri": "https://localhost:8080/",
     "height": 483
    },
    "id": "_X41BhiLqJvM",
    "outputId": "8a5b3b5f-93ad-4baf-d66f-0a648f935170"
   }
  },
  {
   "cell_type": "markdown",
   "source": [
    "# Probability flow ODE\n",
    "\n",
    "With black-box ODE solvers, we can produce samples, compute likelihoods, and obtain a uniquely identifiable encoding of any data point."
   ],
   "metadata": {
    "id": "0AdiQdwN2aFA"
   }
  },
  {
   "cell_type": "code",
   "execution_count": null,
   "source": [
    " #@title ODE sampling\n",
    "\n",
    "shape = (batch_size, 3, 32, 32)\n",
    "sampling_fn = sampling.get_ode_sampler(sde,                                        \n",
    "                                       shape, \n",
    "                                       inverse_scaler,                                       \n",
    "                                       denoise=True, \n",
    "                                       eps=sampling_eps,\n",
    "                                       device=config.device)\n",
    "x, nfe = sampling_fn(score_model)\n",
    "show_samples(x)"
   ],
   "outputs": [],
   "metadata": {
    "cellView": "form",
    "colab": {
     "base_uri": "https://localhost:8080/",
     "height": 483
    },
    "id": "iLQDfFvHSIGn",
    "outputId": "f1888e8b-4e70-446d-d248-9f1c1b6a7916"
   }
  },
  {
   "cell_type": "code",
   "execution_count": null,
   "source": [
    "#@title Likelihood computation\n",
    "train_ds, eval_ds, _ = datasets.get_dataset(config, uniform_dequantization=True, evaluation=True)\n",
    "eval_iter = iter(eval_ds)\n",
    "bpds = []\n",
    "likelihood_fn = likelihood.get_likelihood_fn(sde,                                              \n",
    "                                             inverse_scaler,                                             \n",
    "                                             eps=1e-5)\n",
    "for batch in eval_iter:\n",
    "  img = batch['image']._numpy()\n",
    "  img = torch.tensor(img).permute(0, 3, 1, 2).to(config.device)\n",
    "  img = scaler(img)\n",
    "  bpd, z, nfe = likelihood_fn(score_model, img)\n",
    "  bpds.extend(bpd)\n",
    "  print(f\"average bpd: {torch.tensor(bpds).mean().item()}, NFE: {nfe}\")"
   ],
   "outputs": [],
   "metadata": {
    "cellView": "form",
    "id": "MsdcLnhu7s46"
   }
  },
  {
   "cell_type": "code",
   "execution_count": null,
   "source": [
    "#@title Representations\n",
    "train_ds, eval_ds, _ = datasets.get_dataset(config, uniform_dequantization=False, evaluation=True)\n",
    "eval_batch = next(iter(eval_ds))\n",
    "eval_images = eval_batch['image']._numpy()\n",
    "shape = (batch_size, 3, 32, 32)\n",
    "\n",
    "likelihood_fn = likelihood.get_likelihood_fn(sde, inverse_scaler, eps=1e-5)\n",
    "sampling_fn = sampling.get_ode_sampler(sde, shape, inverse_scaler,\n",
    "                                       denoise=True, eps=sampling_eps, device=config.device)\n",
    "\n",
    "plt.figure(figsize=(18, 6))\n",
    "plt.subplot(1, 2, 1)\n",
    "plt.axis('off')\n",
    "plt.imshow(image_grid(eval_images))\n",
    "plt.title('Original images')\n",
    "\n",
    "eval_images = torch.from_numpy(eval_images).permute(0, 3, 1, 2).to(config.device)\n",
    "_, latent_z, _ = likelihood_fn(score_model, scaler(eval_images))\n",
    "\n",
    "x, nfe = sampling_fn(score_model, latent_z)\n",
    "\n",
    "x = x.permute(0, 2, 3, 1).cpu().numpy()\n",
    "plt.subplot(1, 2, 2)\n",
    "plt.axis('off')\n",
    "plt.imshow(image_grid(x))\n",
    "plt.title('Reconstructed images')"
   ],
   "outputs": [],
   "metadata": {
    "cellView": "form",
    "colab": {
     "base_uri": "https://localhost:8080/",
     "height": 405
    },
    "id": "oe3rLGRm28nc",
    "outputId": "4d3b614b-df5b-4523-aa91-a223d6134397"
   }
  },
  {
   "cell_type": "markdown",
   "source": [
    "# Controllable generation\n",
    "\n",
    "Several demonstrations on how to solve inverse problems with our SDE framework.\n",
    "\n",
    "Recommended settings\n",
    "\n",
    "| dataset | SDE | predictor | corrector | snr | n_steps |\n",
    "|:----:|:----:|:----------:|:--------:|:---:|:----:|\n",
    "|CIFAR-10 | VE | ReverseDiffusionPredictor | LangevinCorrector | 0.16| 1|\n",
    "|CIFAR-10 | VP | EulerMaruyamaPredictor | None | - | - |\n",
    "|CIFAR-10 | subVP| EulerMaruyamaPredictor | None | - | - |\n",
    "| LSUN/CelebA-HQ/FFHQ 256px | VE | ReverseDiffusionPredictor | LangevinCorrector | 0.075 | 1 |\n",
    "| FFHQ 1024px | VE | ReverseDiffusionPredictor | LangevinCorrector | 0.15| 1 |"
   ],
   "metadata": {
    "id": "kaGYVD7KcoW6"
   }
  },
  {
   "cell_type": "code",
   "execution_count": null,
   "source": [
    "#@title PC inpainting\n",
    "train_ds, eval_ds, _ = datasets.get_dataset(config)\n",
    "eval_iter = iter(eval_ds)\n",
    "bpds = []\n",
    "\n",
    "predictor = ReverseDiffusionPredictor #@param [\"EulerMaruyamaPredictor\", \"AncestralSamplingPredictor\", \"ReverseDiffusionPredictor\", \"None\"] {\"type\": \"raw\"}\n",
    "corrector = LangevinCorrector #@param [\"LangevinCorrector\", \"AnnealedLangevinDynamics\", \"None\"] {\"type\": \"raw\"}\n",
    "snr = 0.15 #@param {\"type\": \"number\"}\n",
    "n_steps = 1 #@param {\"type\": \"integer\"}\n",
    "probability_flow = False #@param {\"type\": \"boolean\"}\n",
    "\n",
    "pc_inpainter = controllable_generation.get_pc_inpainter(sde,\n",
    "                                                        predictor, corrector,\n",
    "                                                        inverse_scaler,\n",
    "                                                        snr=snr,\n",
    "                                                        n_steps=n_steps,\n",
    "                                                        probability_flow=probability_flow,\n",
    "                                                        continuous=config.training.continuous,\n",
    "                                                        denoise=True)\n",
    "batch = next(eval_iter)\n",
    "img = batch['image']._numpy()\n",
    "img = torch.from_numpy(img).permute(0, 3, 1, 2).to(config.device)\n",
    "show_samples(img)\n",
    "\n",
    "mask = torch.ones_like(img)\n",
    "mask[:, :, :, 16:] = 0.\n",
    "show_samples(img * mask)\n",
    "\n",
    "\n",
    "x = pc_inpainter(score_model, scaler(img), mask)\n",
    "show_samples(x)"
   ],
   "outputs": [],
   "metadata": {
    "cellView": "form",
    "colab": {
     "base_uri": "https://localhost:8080/",
     "height": 1000
    },
    "id": "tbly_8RIjqJD",
    "outputId": "28ca290e-1079-4031-e37a-c69374398f76"
   }
  },
  {
   "cell_type": "code",
   "execution_count": null,
   "source": [
    "#@title PC colorizer\n",
    "train_ds, eval_ds, _ = datasets.get_dataset(config)\n",
    "eval_iter = iter(eval_ds)\n",
    "bpds = []\n",
    "\n",
    "predictor = ReverseDiffusionPredictor #@param [\"EulerMaruyamaPredictor\", \"AncestralSamplingPredictor\", \"ReverseDiffusionPredictor\", \"None\"] {\"type\": \"raw\"}\n",
    "corrector = LangevinCorrector #@param [\"LangevinCorrector\", \"AnnealedLangevinDynamics\", \"None\"] {\"type\": \"raw\"}\n",
    "snr = 0.16 #@param {\"type\": \"number\"}\n",
    "n_steps = 1 #@param {\"type\": \"integer\"}\n",
    "probability_flow = False #@param {\"type\": \"boolean\"}\n",
    "\n",
    "batch = next(eval_iter)\n",
    "img = batch['image']._numpy()\n",
    "img = torch.from_numpy(img).permute(0, 3, 1, 2).to(config.device)\n",
    "show_samples(img)\n",
    "gray_scale_img = torch.mean(img, dim=1, keepdims=True).repeat(1, 3, 1, 1)\n",
    "show_samples(gray_scale_img)\n",
    "gray_scale_img = scaler(gray_scale_img)\n",
    "pc_colorizer = controllable_generation.get_pc_colorizer(\n",
    "    sde, predictor, corrector, inverse_scaler,\n",
    "    snr=snr, n_steps=n_steps, probability_flow=probability_flow,\n",
    "    continuous=config.training.continuous, denoise=True\n",
    ")\n",
    "x = pc_colorizer(score_model, gray_scale_img)\n",
    "\n",
    "show_samples(x)"
   ],
   "outputs": [],
   "metadata": {
    "cellView": "form",
    "colab": {
     "base_uri": "https://localhost:8080/",
     "height": 1000
    },
    "id": "DsP-ayb8cupk",
    "outputId": "51272ecd-4ba3-4931-8a6d-358c6218e25b"
   }
  },
  {
   "cell_type": "markdown",
   "source": [
    "## Class-conditional generation\n",
    "\n"
   ],
   "metadata": {
    "id": "HiYRNB-Wk329"
   }
  },
  {
   "cell_type": "markdown",
   "source": [
    "Check out the [class-conditional generation section](https://colab.research.google.com/drive/1dRR_0gNRmfLtPavX2APzUggBuXyjWW55#scrollTo=HiYRNB-Wk329&line=3&uniqifier=1) in our [JAX demo](https://colab.research.google.com/drive/1dRR_0gNRmfLtPavX2APzUggBuXyjWW55?usp=sharing)"
   ],
   "metadata": {
    "id": "HTu-5e6S68Gb"
   }
  }
 ],
 "metadata": {
  "colab": {
   "collapsed_sections": [],
   "include_colab_link": true,
   "name": "Score SDE demo PyTorch",
   "provenance": [],
   "toc_visible": true
  },
  "interpreter": {
   "hash": "5039bcb0086f1a8e3ceb7068972048611f48699149712ad1b3124db6e7ca405f"
  },
  "kernelspec": {
   "name": "python3",
   "display_name": "Python 3.9.9 64-bit ('score_face': conda)"
  },
  "language_info": {
   "codemirror_mode": {
    "name": "ipython",
    "version": 3
   },
   "file_extension": ".py",
   "mimetype": "text/x-python",
   "name": "python",
   "nbconvert_exporter": "python",
   "pygments_lexer": "ipython3",
   "version": "3.9.9"
  }
 },
 "nbformat": 4,
 "nbformat_minor": 2
}