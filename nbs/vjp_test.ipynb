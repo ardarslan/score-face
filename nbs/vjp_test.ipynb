{
 "cells": [
  {
   "cell_type": "code",
   "execution_count": 21,
   "metadata": {},
   "outputs": [
    {
     "name": "stdout",
     "output_type": "stream",
     "text": [
      "A.grad: tensor([[0.1584, 0.1734, 0.1892, 0.2058],\n",
      "        [0.1923, 0.2105, 0.2297, 0.2499],\n",
      "        [0.2323, 0.2543, 0.2775, 0.3018]])\n",
      "B.grad: tensor([[0.3167, 0.3468, 0.3784, 0.4116],\n",
      "        [0.3846, 0.4211, 0.4594, 0.4997],\n",
      "        [0.4646, 0.5087, 0.5550, 0.6037]])\n"
     ]
    }
   ],
   "source": [
    "import torch\n",
    "\n",
    "A = torch.tensor([[0.01, 0.02, 0.03, 0.04],\n",
    "                  [0.05, 0.06, 0.07, 0.08],\n",
    "                  [0.09, 0.10, 0.11, 0.12]])\n",
    "\n",
    "B = torch.tensor([[1.01, 1.02, 1.03, 1.04],\n",
    "                  [1.05, 1.06, 1.07, 1.08],\n",
    "                  [1.09, 1.10, 1.11, 1.12]])\n",
    "\n",
    "def sum_exp(A, B):\n",
    "    return torch.exp(A + 2 * B)\n",
    "\n",
    "C = sum_exp(A, B)\n",
    "C.requires_grad = True\n",
    "u = torch.tensor([[0.13, 0.14, 0.15]])\n",
    "v = torch.tensor([[0.16],\n",
    "                  [0.17],\n",
    "                  [0.18],\n",
    "                  [0.19]])\n",
    "D = u.matmul(C).matmul(v)\n",
    "\n",
    "D.backward()\n",
    "vjp = torch.autograd.functional.vjp(func=sum_exp, inputs=(A, B), v=C.grad, create_graph=False, strict=False)\n",
    "print(\"A.grad:\", vjp[1][0])\n",
    "print(\"B.grad:\", vjp[1][1])\n"
   ]
  },
  {
   "cell_type": "code",
   "execution_count": 22,
   "metadata": {},
   "outputs": [
    {
     "name": "stdout",
     "output_type": "stream",
     "text": [
      "A.grad: tensor([[0.1584, 0.1734, 0.1892, 0.2058],\n",
      "        [0.1923, 0.2105, 0.2297, 0.2499],\n",
      "        [0.2323, 0.2543, 0.2775, 0.3018]])\n",
      "B.grad: tensor([[0.3167, 0.3468, 0.3784, 0.4116],\n",
      "        [0.3846, 0.4211, 0.4594, 0.4997],\n",
      "        [0.4646, 0.5087, 0.5550, 0.6037]])\n"
     ]
    }
   ],
   "source": [
    "import torch\n",
    "\n",
    "A = torch.tensor([[0.01, 0.02, 0.03, 0.04],\n",
    "                  [0.05, 0.06, 0.07, 0.08],\n",
    "                  [0.09, 0.10, 0.11, 0.12]])\n",
    "\n",
    "B = torch.tensor([[1.01, 1.02, 1.03, 1.04],\n",
    "                  [1.05, 1.06, 1.07, 1.08],\n",
    "                  [1.09, 1.10, 1.11, 1.12]])\n",
    "A.requires_grad = True\n",
    "B.requires_grad = True\n",
    "\n",
    "def sum_exp(A, B):\n",
    "    return torch.exp(A + 2 * B)\n",
    "\n",
    "C = sum_exp(A, B)\n",
    "u = torch.tensor([[0.13, 0.14, 0.15]])\n",
    "v = torch.tensor([[0.16],\n",
    "                  [0.17],\n",
    "                  [0.18],\n",
    "                  [0.19]])\n",
    "D = u.matmul(C).matmul(v)\n",
    "\n",
    "D.backward()\n",
    "print(\"A.grad:\", A.grad)\n",
    "print(\"B.grad:\", B.grad)\n"
   ]
  },
  {
   "cell_type": "code",
   "execution_count": null,
   "metadata": {},
   "outputs": [],
   "source": []
  }
 ],
 "metadata": {
  "interpreter": {
   "hash": "0401ec251a69a56b9db0ee6927d78fb3a2d9cec9aa9e5e9189c934bfe115a48c"
  },
  "kernelspec": {
   "display_name": "Python 3.9.9 ('score_face')",
   "language": "python",
   "name": "python3"
  },
  "language_info": {
   "codemirror_mode": {
    "name": "ipython",
    "version": 3
   },
   "file_extension": ".py",
   "mimetype": "text/x-python",
   "name": "python",
   "nbconvert_exporter": "python",
   "pygments_lexer": "ipython3",
   "version": "3.9.9"
  },
  "orig_nbformat": 4
 },
 "nbformat": 4,
 "nbformat_minor": 2
}
